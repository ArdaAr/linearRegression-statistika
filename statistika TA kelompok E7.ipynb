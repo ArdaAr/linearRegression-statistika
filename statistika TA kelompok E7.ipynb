{
 "cells": [
  {
   "cell_type": "code",
   "execution_count": 1,
   "metadata": {},
   "outputs": [
    {
     "data": {
      "text/html": [
       "<div>\n",
       "<style scoped>\n",
       "    .dataframe tbody tr th:only-of-type {\n",
       "        vertical-align: middle;\n",
       "    }\n",
       "\n",
       "    .dataframe tbody tr th {\n",
       "        vertical-align: top;\n",
       "    }\n",
       "\n",
       "    .dataframe thead th {\n",
       "        text-align: right;\n",
       "    }\n",
       "</style>\n",
       "<table border=\"1\" class=\"dataframe\">\n",
       "  <thead>\n",
       "    <tr style=\"text-align: right;\">\n",
       "      <th></th>\n",
       "      <th>Timestamp</th>\n",
       "      <th>Nama</th>\n",
       "      <th>Program Studi</th>\n",
       "      <th>Tempat tinggal Anda sekarang</th>\n",
       "      <th>Koneksi internet dari mana yang biasa Anda gunakan untuk mengakses SISTER UNEJ?</th>\n",
       "      <th>Penyedia layanan Internet apa yang biasa Anda gunakan untuk mengakses SISTER UNEJ?</th>\n",
       "      <th>Berapa biaya yang Anda keluarkan setiap bulan untuk berlangganan Internet?</th>\n",
       "      <th>Seberapa lancar Internet Anda dalam mengakses SISTER UNEJ sehari-hari?</th>\n",
       "      <th>Seberapa lancar Internet Anda dalam mengakses SISTER UNEJ saat ada quiz/ujian?</th>\n",
       "      <th>Seberapa lancar Internet Anda dalam mengakses SISTER UNEJ saat terjadi pemadaman listrik di wilayah tempat tinggal Anda?</th>\n",
       "      <th>Seberapa sering Anda mengalami masalah saat mengakses SISTER UNEJ?</th>\n",
       "    </tr>\n",
       "  </thead>\n",
       "  <tbody>\n",
       "    <tr>\n",
       "      <th>0</th>\n",
       "      <td>07/06/2021 7:43:35</td>\n",
       "      <td>Dimas Rifriandi</td>\n",
       "      <td>Sistem Informasi</td>\n",
       "      <td>Blitar</td>\n",
       "      <td>Paket Data Seluler</td>\n",
       "      <td>3 (Tri)</td>\n",
       "      <td>Rp60.000,- s.d. Rp100.000,-</td>\n",
       "      <td>Lancar</td>\n",
       "      <td>Lancar</td>\n",
       "      <td>Lancar</td>\n",
       "      <td>Jarang</td>\n",
       "    </tr>\n",
       "    <tr>\n",
       "      <th>1</th>\n",
       "      <td>07/06/2021 8:00:42</td>\n",
       "      <td>Figo Perdana Putra</td>\n",
       "      <td>Teknologi Informasi</td>\n",
       "      <td>Probolinggo</td>\n",
       "      <td>Wi-Fi Rumah atau Pribadi</td>\n",
       "      <td>IndiHome</td>\n",
       "      <td>Rp100.000,- s.d. Rp300.000,-</td>\n",
       "      <td>Lancar</td>\n",
       "      <td>Lancar</td>\n",
       "      <td>Lancar</td>\n",
       "      <td>Jarang</td>\n",
       "    </tr>\n",
       "    <tr>\n",
       "      <th>2</th>\n",
       "      <td>07/06/2021 8:03:02</td>\n",
       "      <td>Putri Wahyu</td>\n",
       "      <td>S1 Teknik Lingkungan</td>\n",
       "      <td>Tuban</td>\n",
       "      <td>Paket Data Seluler</td>\n",
       "      <td>Indosat Ooredoo</td>\n",
       "      <td>Rp100.000,- s.d. Rp300.000,-</td>\n",
       "      <td>Cukup Lancar</td>\n",
       "      <td>Cukup Lancar</td>\n",
       "      <td>Tidak Lancar</td>\n",
       "      <td>Jarang</td>\n",
       "    </tr>\n",
       "    <tr>\n",
       "      <th>3</th>\n",
       "      <td>07/06/2021 8:09:04</td>\n",
       "      <td>Mohamad Akbar</td>\n",
       "      <td>Teknologi Informasi</td>\n",
       "      <td>Banyuwangi</td>\n",
       "      <td>Paket Data Seluler</td>\n",
       "      <td>Indosat Ooredoo</td>\n",
       "      <td>Rp30.000,- s.d. Rp60.000,-</td>\n",
       "      <td>Cukup Lancar</td>\n",
       "      <td>Lancar</td>\n",
       "      <td>Cukup Lancar</td>\n",
       "      <td>Cukup Sering</td>\n",
       "    </tr>\n",
       "    <tr>\n",
       "      <th>4</th>\n",
       "      <td>07/06/2021 8:33:09</td>\n",
       "      <td>Fiesta Putra Reifa Al Ghifar</td>\n",
       "      <td>Teknologi informasi</td>\n",
       "      <td>Jember</td>\n",
       "      <td>Wi-Fi Rumah atau Pribadi</td>\n",
       "      <td>IndiHome</td>\n",
       "      <td>Rp100.000,- s.d. Rp300.000,-</td>\n",
       "      <td>Lancar</td>\n",
       "      <td>Lancar</td>\n",
       "      <td>Cukup Lancar</td>\n",
       "      <td>Jarang</td>\n",
       "    </tr>\n",
       "  </tbody>\n",
       "</table>\n",
       "</div>"
      ],
      "text/plain": [
       "            Timestamp                          Nama          Program Studi  \\\n",
       "0  07/06/2021 7:43:35               Dimas Rifriandi       Sistem Informasi   \n",
       "1  07/06/2021 8:00:42            Figo Perdana Putra    Teknologi Informasi   \n",
       "2  07/06/2021 8:03:02                   Putri Wahyu  S1 Teknik Lingkungan    \n",
       "3  07/06/2021 8:09:04                 Mohamad Akbar    Teknologi Informasi   \n",
       "4  07/06/2021 8:33:09  Fiesta Putra Reifa Al Ghifar    Teknologi informasi   \n",
       "\n",
       "  Tempat tinggal Anda sekarang  \\\n",
       "0                       Blitar   \n",
       "1                  Probolinggo   \n",
       "2                        Tuban   \n",
       "3                   Banyuwangi   \n",
       "4                       Jember   \n",
       "\n",
       "  Koneksi internet dari mana yang biasa Anda gunakan untuk mengakses SISTER UNEJ?  \\\n",
       "0                                 Paket Data Seluler                                \n",
       "1                           Wi-Fi Rumah atau Pribadi                                \n",
       "2                                 Paket Data Seluler                                \n",
       "3                                 Paket Data Seluler                                \n",
       "4                           Wi-Fi Rumah atau Pribadi                                \n",
       "\n",
       "  Penyedia layanan Internet apa yang biasa Anda gunakan untuk mengakses SISTER UNEJ?  \\\n",
       "0                                            3 (Tri)                                   \n",
       "1                                           IndiHome                                   \n",
       "2                                    Indosat Ooredoo                                   \n",
       "3                                    Indosat Ooredoo                                   \n",
       "4                                           IndiHome                                   \n",
       "\n",
       "  Berapa biaya yang Anda keluarkan setiap bulan untuk berlangganan Internet?  \\\n",
       "0                        Rp60.000,- s.d. Rp100.000,-                           \n",
       "1                       Rp100.000,- s.d. Rp300.000,-                           \n",
       "2                       Rp100.000,- s.d. Rp300.000,-                           \n",
       "3                         Rp30.000,- s.d. Rp60.000,-                           \n",
       "4                       Rp100.000,- s.d. Rp300.000,-                           \n",
       "\n",
       "  Seberapa lancar Internet Anda dalam mengakses SISTER UNEJ sehari-hari?  \\\n",
       "0                                             Lancar                       \n",
       "1                                             Lancar                       \n",
       "2                                       Cukup Lancar                       \n",
       "3                                       Cukup Lancar                       \n",
       "4                                             Lancar                       \n",
       "\n",
       "  Seberapa lancar Internet Anda dalam mengakses SISTER UNEJ saat ada quiz/ujian?  \\\n",
       "0                                             Lancar                               \n",
       "1                                             Lancar                               \n",
       "2                                       Cukup Lancar                               \n",
       "3                                             Lancar                               \n",
       "4                                             Lancar                               \n",
       "\n",
       "  Seberapa lancar Internet Anda dalam mengakses SISTER UNEJ saat terjadi pemadaman listrik di wilayah tempat tinggal Anda?  \\\n",
       "0                                             Lancar                                                                         \n",
       "1                                             Lancar                                                                         \n",
       "2                                       Tidak Lancar                                                                         \n",
       "3                                       Cukup Lancar                                                                         \n",
       "4                                       Cukup Lancar                                                                         \n",
       "\n",
       "  Seberapa sering Anda mengalami masalah saat mengakses SISTER UNEJ?  \n",
       "0                                             Jarang                  \n",
       "1                                             Jarang                  \n",
       "2                                             Jarang                  \n",
       "3                                       Cukup Sering                  \n",
       "4                                             Jarang                  "
      ]
     },
     "execution_count": 1,
     "metadata": {},
     "output_type": "execute_result"
    }
   ],
   "source": [
    "import pandas as pd\n",
    "import numpy as np\n",
    "\n",
    "data = pd.read_csv('kuisioner1.csv')\n",
    "data.head()"
   ]
  },
  {
   "cell_type": "code",
   "execution_count": 3,
   "metadata": {},
   "outputs": [
    {
     "data": {
      "text/html": [
       "<div>\n",
       "<style scoped>\n",
       "    .dataframe tbody tr th:only-of-type {\n",
       "        vertical-align: middle;\n",
       "    }\n",
       "\n",
       "    .dataframe tbody tr th {\n",
       "        vertical-align: top;\n",
       "    }\n",
       "\n",
       "    .dataframe thead th {\n",
       "        text-align: right;\n",
       "    }\n",
       "</style>\n",
       "<table border=\"1\" class=\"dataframe\">\n",
       "  <thead>\n",
       "    <tr style=\"text-align: right;\">\n",
       "      <th></th>\n",
       "      <th>Berapa biaya yang Anda keluarkan setiap bulan untuk berlangganan Internet?</th>\n",
       "      <th>Seberapa lancar Internet Anda dalam mengakses SISTER UNEJ sehari-hari?</th>\n",
       "    </tr>\n",
       "  </thead>\n",
       "  <tbody>\n",
       "    <tr>\n",
       "      <th>0</th>\n",
       "      <td>Rp60.000,- s.d. Rp100.000,-</td>\n",
       "      <td>Lancar</td>\n",
       "    </tr>\n",
       "    <tr>\n",
       "      <th>1</th>\n",
       "      <td>Rp100.000,- s.d. Rp300.000,-</td>\n",
       "      <td>Lancar</td>\n",
       "    </tr>\n",
       "    <tr>\n",
       "      <th>2</th>\n",
       "      <td>Rp100.000,- s.d. Rp300.000,-</td>\n",
       "      <td>Cukup Lancar</td>\n",
       "    </tr>\n",
       "    <tr>\n",
       "      <th>3</th>\n",
       "      <td>Rp30.000,- s.d. Rp60.000,-</td>\n",
       "      <td>Cukup Lancar</td>\n",
       "    </tr>\n",
       "    <tr>\n",
       "      <th>4</th>\n",
       "      <td>Rp100.000,- s.d. Rp300.000,-</td>\n",
       "      <td>Lancar</td>\n",
       "    </tr>\n",
       "  </tbody>\n",
       "</table>\n",
       "</div>"
      ],
      "text/plain": [
       "  Berapa biaya yang Anda keluarkan setiap bulan untuk berlangganan Internet?  \\\n",
       "0                        Rp60.000,- s.d. Rp100.000,-                           \n",
       "1                       Rp100.000,- s.d. Rp300.000,-                           \n",
       "2                       Rp100.000,- s.d. Rp300.000,-                           \n",
       "3                         Rp30.000,- s.d. Rp60.000,-                           \n",
       "4                       Rp100.000,- s.d. Rp300.000,-                           \n",
       "\n",
       "  Seberapa lancar Internet Anda dalam mengakses SISTER UNEJ sehari-hari?  \n",
       "0                                             Lancar                      \n",
       "1                                             Lancar                      \n",
       "2                                       Cukup Lancar                      \n",
       "3                                       Cukup Lancar                      \n",
       "4                                             Lancar                      "
      ]
     },
     "execution_count": 3,
     "metadata": {},
     "output_type": "execute_result"
    }
   ],
   "source": [
    "data = data[['Berapa biaya yang Anda keluarkan setiap bulan untuk berlangganan Internet?','Seberapa lancar Internet Anda dalam mengakses SISTER UNEJ sehari-hari?']]\n",
    "data.head()"
   ]
  },
  {
   "cell_type": "code",
   "execution_count": 4,
   "metadata": {},
   "outputs": [
    {
     "data": {
      "text/html": [
       "<div>\n",
       "<style scoped>\n",
       "    .dataframe tbody tr th:only-of-type {\n",
       "        vertical-align: middle;\n",
       "    }\n",
       "\n",
       "    .dataframe tbody tr th {\n",
       "        vertical-align: top;\n",
       "    }\n",
       "\n",
       "    .dataframe thead th {\n",
       "        text-align: right;\n",
       "    }\n",
       "</style>\n",
       "<table border=\"1\" class=\"dataframe\">\n",
       "  <thead>\n",
       "    <tr style=\"text-align: right;\">\n",
       "      <th></th>\n",
       "      <th>harga paket</th>\n",
       "      <th>performa</th>\n",
       "    </tr>\n",
       "  </thead>\n",
       "  <tbody>\n",
       "    <tr>\n",
       "      <th>0</th>\n",
       "      <td>Rp60.000,- s.d. Rp100.000,-</td>\n",
       "      <td>Lancar</td>\n",
       "    </tr>\n",
       "    <tr>\n",
       "      <th>1</th>\n",
       "      <td>Rp100.000,- s.d. Rp300.000,-</td>\n",
       "      <td>Lancar</td>\n",
       "    </tr>\n",
       "    <tr>\n",
       "      <th>2</th>\n",
       "      <td>Rp100.000,- s.d. Rp300.000,-</td>\n",
       "      <td>Cukup Lancar</td>\n",
       "    </tr>\n",
       "    <tr>\n",
       "      <th>3</th>\n",
       "      <td>Rp30.000,- s.d. Rp60.000,-</td>\n",
       "      <td>Cukup Lancar</td>\n",
       "    </tr>\n",
       "    <tr>\n",
       "      <th>4</th>\n",
       "      <td>Rp100.000,- s.d. Rp300.000,-</td>\n",
       "      <td>Lancar</td>\n",
       "    </tr>\n",
       "  </tbody>\n",
       "</table>\n",
       "</div>"
      ],
      "text/plain": [
       "                    harga paket      performa\n",
       "0   Rp60.000,- s.d. Rp100.000,-        Lancar\n",
       "1  Rp100.000,- s.d. Rp300.000,-        Lancar\n",
       "2  Rp100.000,- s.d. Rp300.000,-  Cukup Lancar\n",
       "3    Rp30.000,- s.d. Rp60.000,-  Cukup Lancar\n",
       "4  Rp100.000,- s.d. Rp300.000,-        Lancar"
      ]
     },
     "execution_count": 4,
     "metadata": {},
     "output_type": "execute_result"
    }
   ],
   "source": [
    "data = data.rename(columns={'Berapa biaya yang Anda keluarkan setiap bulan untuk berlangganan Internet?':'harga paket','Seberapa lancar Internet Anda dalam mengakses SISTER UNEJ sehari-hari?':'performa'})\n",
    "data.head()"
   ]
  },
  {
   "cell_type": "code",
   "execution_count": 5,
   "metadata": {},
   "outputs": [
    {
     "data": {
      "text/plain": [
       "Lancar           17\n",
       "Cukup Lancar     15\n",
       "Sangat Lancar    10\n",
       "Kurang Lancar     3\n",
       "Name: performa, dtype: int64"
      ]
     },
     "execution_count": 5,
     "metadata": {},
     "output_type": "execute_result"
    }
   ],
   "source": [
    "data['performa'].value_counts()"
   ]
  },
  {
   "cell_type": "code",
   "execution_count": 6,
   "metadata": {},
   "outputs": [
    {
     "data": {
      "text/plain": [
       "3    23\n",
       "4    10\n",
       "2     5\n",
       "1     5\n",
       "0     2\n",
       "Name: harga paket, dtype: int64"
      ]
     },
     "execution_count": 6,
     "metadata": {},
     "output_type": "execute_result"
    }
   ],
   "source": [
    "harga = {\n",
    "    'Di bawah Rp30.000,-' : 0,\n",
    "    'Rp30.000,- s.d. Rp60.000,-' : 1,\n",
    "    'Rp60.000,- s.d. Rp100.000,-' : 2,\n",
    "    'Rp100.000,- s.d. Rp300.000,-' : 3,\n",
    "    'Lebih dari Rp300.000,-' : 4\n",
    "}\n",
    "\n",
    "data['harga paket'] = data['harga paket'].replace(harga)\n",
    "data['harga paket'].value_counts()"
   ]
  },
  {
   "cell_type": "code",
   "execution_count": 7,
   "metadata": {},
   "outputs": [
    {
     "data": {
      "text/plain": [
       "2    17\n",
       "1    15\n",
       "3    10\n",
       "0     3\n",
       "Name: performa, dtype: int64"
      ]
     },
     "execution_count": 7,
     "metadata": {},
     "output_type": "execute_result"
    }
   ],
   "source": [
    "performa = {\n",
    "    'Lancar' : 2,\n",
    "    'Cukup Lancar' : 1,\n",
    "    'Sangat Lancar' : 3,\n",
    "    'Kurang Lancar' : 0\n",
    "}\n",
    "data['performa'] = data['performa'].replace(performa)\n",
    "data['performa'].value_counts()"
   ]
  },
  {
   "cell_type": "code",
   "execution_count": 8,
   "metadata": {},
   "outputs": [
    {
     "data": {
      "text/html": [
       "<div>\n",
       "<style scoped>\n",
       "    .dataframe tbody tr th:only-of-type {\n",
       "        vertical-align: middle;\n",
       "    }\n",
       "\n",
       "    .dataframe tbody tr th {\n",
       "        vertical-align: top;\n",
       "    }\n",
       "\n",
       "    .dataframe thead th {\n",
       "        text-align: right;\n",
       "    }\n",
       "</style>\n",
       "<table border=\"1\" class=\"dataframe\">\n",
       "  <thead>\n",
       "    <tr style=\"text-align: right;\">\n",
       "      <th></th>\n",
       "      <th>harga paket</th>\n",
       "      <th>performa</th>\n",
       "    </tr>\n",
       "  </thead>\n",
       "  <tbody>\n",
       "    <tr>\n",
       "      <th>count</th>\n",
       "      <td>45.000000</td>\n",
       "      <td>45.000000</td>\n",
       "    </tr>\n",
       "    <tr>\n",
       "      <th>mean</th>\n",
       "      <td>2.755556</td>\n",
       "      <td>1.755556</td>\n",
       "    </tr>\n",
       "    <tr>\n",
       "      <th>std</th>\n",
       "      <td>1.069315</td>\n",
       "      <td>0.883062</td>\n",
       "    </tr>\n",
       "    <tr>\n",
       "      <th>min</th>\n",
       "      <td>0.000000</td>\n",
       "      <td>0.000000</td>\n",
       "    </tr>\n",
       "    <tr>\n",
       "      <th>25%</th>\n",
       "      <td>2.000000</td>\n",
       "      <td>1.000000</td>\n",
       "    </tr>\n",
       "    <tr>\n",
       "      <th>50%</th>\n",
       "      <td>3.000000</td>\n",
       "      <td>2.000000</td>\n",
       "    </tr>\n",
       "    <tr>\n",
       "      <th>75%</th>\n",
       "      <td>3.000000</td>\n",
       "      <td>2.000000</td>\n",
       "    </tr>\n",
       "    <tr>\n",
       "      <th>max</th>\n",
       "      <td>4.000000</td>\n",
       "      <td>3.000000</td>\n",
       "    </tr>\n",
       "  </tbody>\n",
       "</table>\n",
       "</div>"
      ],
      "text/plain": [
       "       harga paket   performa\n",
       "count    45.000000  45.000000\n",
       "mean      2.755556   1.755556\n",
       "std       1.069315   0.883062\n",
       "min       0.000000   0.000000\n",
       "25%       2.000000   1.000000\n",
       "50%       3.000000   2.000000\n",
       "75%       3.000000   2.000000\n",
       "max       4.000000   3.000000"
      ]
     },
     "execution_count": 8,
     "metadata": {},
     "output_type": "execute_result"
    }
   ],
   "source": [
    "data.describe()"
   ]
  },
  {
   "cell_type": "code",
   "execution_count": 10,
   "metadata": {},
   "outputs": [
    {
     "data": {
      "image/png": "[encoded data removed]",
      "text/plain": [
       "<Figure size 864x288 with 1 Axes>"
      ]
     },
     "metadata": {
      "needs_background": "light"
     },
     "output_type": "display_data"
    }
   ],
   "source": [
    "import matplotlib.pyplot as plt\n",
    "import seaborn as sns\n",
    "\n",
    "f = plt.figure(figsize=(12,4))\n",
    "f.add_subplot(1,2,2)\n",
    "plt.title(\"Jumlah masing-masing Harga\")\n",
    "plt.ylim(top=30)\n",
    "sns.countplot(data=data, x='harga paket')\n",
    "plt.show()"
   ]
  },
  {
   "cell_type": "code",
   "execution_count": 11,
   "metadata": {
    "scrolled": true
   },
   "outputs": [
    {
     "data": {
      "image/png": "[encoded data removed]",
      "text/plain": [
       "<Figure size 432x288 with 1 Axes>"
      ]
     },
     "metadata": {
      "needs_background": "light"
     },
     "output_type": "display_data"
    }
   ],
   "source": [
    "sns.countplot(data=data, x='performa')\n",
    "plt.title(\"Jumlah masing-masing performa\")\n",
    "plt.show()"
   ]
  },
  {
   "cell_type": "code",
   "execution_count": 12,
   "metadata": {
    "scrolled": true
   },
   "outputs": [
    {
     "data": {
      "image/png": "[encoded data removed]",
      "text/plain": [
       "<Figure size 432x288 with 1 Axes>"
      ]
     },
     "metadata": {
      "needs_background": "light"
     },
     "output_type": "display_data"
    }
   ],
   "source": [
    "plt.xlim(right=10, left=-1) #xmin is your value\n",
    "plt.ylim(top=10,bottom=-1) #ymax is your value\n",
    "plt.title(\"Grafik Hubungan antara harga paket dengan performa \")\n",
    "sns.scatterplot(data=data, x=\"harga paket\", y=\"performa\")\n",
    "plt.show()"
   ]
  },
  {
   "cell_type": "code",
   "execution_count": 13,
   "metadata": {},
   "outputs": [],
   "source": [
    "x = data['harga paket'].values.reshape(-1,1)\n",
    "y = data['performa'].values.reshape(-1,1)"
   ]
  },
  {
   "cell_type": "code",
   "execution_count": 14,
   "metadata": {},
   "outputs": [],
   "source": [
    "from sklearn.model_selection import train_test_split\n",
    "\n",
    "x_train, x_test, y_train, y_test = train_test_split(x, y, random_state=21, test_size=0.2)"
   ]
  },
  {
   "cell_type": "code",
   "execution_count": 15,
   "metadata": {},
   "outputs": [
    {
     "name": "stdout",
     "output_type": "stream",
     "text": [
      "[[0.2516129]]\n",
      "[1.05806452]\n"
     ]
    }
   ],
   "source": [
    "from sklearn.linear_model import LinearRegression\n",
    "\n",
    "lin_reg = LinearRegression()\n",
    "lin_reg.fit(x_train, y_train)\n",
    "print(lin_reg.coef_) # nilai b\n",
    "print(lin_reg.intercept_) # nilai a"
   ]
  },
  {
   "cell_type": "markdown",
   "metadata": {},
   "source": [
    "0 -> 'Di bawah Rp30.000,-'\n",
    "4 -> 'Lebih dari Rp300.000,-',\n",
    "3 -> 'Rp100.000,- s.d. Rp300.000,-'\n",
    "1 -> 'Rp30.000,- s.d. Rp60.000,-',\n",
    "2 -> 'Rp60.000,- s.d. Rp100.000,-']\n",
    "\n",
    "1 -> 'Cukup Lancar'\n",
    "0 -> 'Kurang Lancar'\n",
    "2 -> 'Lancar'\n",
    "3 -> 'Sangat Lancar'"
   ]
  },
  {
   "cell_type": "code",
   "execution_count": 16,
   "metadata": {},
   "outputs": [
    {
     "name": "stdout",
     "output_type": "stream",
     "text": [
      "harga 0 performa = [[1.05806452]]\n",
      "harga 1 performa = [[1.30967742]]\n",
      "harga 2 performa = [[1.56129032]]\n",
      "harga 3 performa = [[1.81290323]]\n",
      "harga 4 performa = [[2.06451613]]\n"
     ]
    }
   ],
   "source": [
    "performa = [0,1,2,3,4]\n",
    "for performa in performa:\n",
    "    print(\"harga\", performa, end=\" performa = \")\n",
    "    print(lin_reg.predict([[performa]]))"
   ]
  },
  {
   "cell_type": "code",
   "execution_count": null,
   "metadata": {},
   "outputs": [],
   "source": []
  }
 ],
 "metadata": {
  "kernelspec": {
   "display_name": "Python 3",
   "language": "python",
   "name": "python3"
  },
  "language_info": {
   "codemirror_mode": {
    "name": "ipython",
    "version": 3
   },
   "file_extension": ".py",
   "mimetype": "text/x-python",
   "name": "python",
   "nbconvert_exporter": "python",
   "pygments_lexer": "ipython3",
   "version": "3.8.2"
  }
 },
 "nbformat": 4,
 "nbformat_minor": 4
}
